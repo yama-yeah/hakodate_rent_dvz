{
  "cells": [
    {
      "cell_type": "code",
      "execution_count": null,
      "metadata": {},
      "outputs": [],
      "source": [
        "# 初回のみ実行\n",
        "!mkdir data\n",
        "!wget -P data https://www.info-proto.com/static/jageocoder/latest/v2/jukyo_all_v21.zip\n",
        "!rye run jageocoder install-dictionary jukyo_all_v21.zip"
      ]
    },
    {
      "cell_type": "code",
      "execution_count": 16,
      "metadata": {
        "colab": {
          "base_uri": "https://localhost:8080/"
        },
        "id": "Z3cZRsLwvfWa",
        "outputId": "bd50163b-a8b2-4e2d-cb7c-0e861ae8e67d"
      },
      "outputs": [],
      "source": [
        "import requests\n",
        "from bs4 import BeautifulSoup\n",
        "from retry import retry\n",
        "import urllib\n",
        "import time\n",
        "import numpy as np\n",
        "import polars as pl\n",
        "from tqdm import tqdm\n",
        "\n",
        "make_df=True #Trueにすればデータが作成されます。一度実行した後はdataフォルダに作成したデータが保存されるのでFalseにしても大丈夫です。\n",
        "\n",
        "# 複数ページの情報をまとめて取得\n",
        "data_samples = []\n",
        "\n",
        "# スクレイピングするページ数\n",
        "max_page = 891 #891\n",
        "# SUUMOから函館の家賃情報を取得します。\n",
        "url = 'https://suumo.jp/jj/common/ichiran/JJ901FC004/?initFlg=1&seniFlg=1&pc=30&ar=010&ta=01&scTmp=01202&kb=0&xb=0&newflg=0&km=1&sc=01202&bs=040&pn={}'\n",
        "\n",
        "# リクエストがうまく行かないパターンを回避するためのやり直し\n",
        "@retry(tries=3)\n",
        "def load_page(url):\n",
        "    html = requests.get(url)\n",
        "    soup = BeautifulSoup(html.content, 'html.parser')\n",
        "    return soup\n",
        "\n",
        "def make_suumo_df():\n",
        "    cats = []\n",
        "    names = []\n",
        "    address = []\n",
        "    prices = []\n",
        "    # ページごとの処理\n",
        "    for page in tqdm(range(1,max_page+1)):\n",
        "        before = time.time()\n",
        "        # ページ情報\n",
        "        soup = load_page(url.format(page))\n",
        "        # 物件情報リストを指定\n",
        "        mother = soup.find_all(class_='cassette js-bukkenCassette')\n",
        "        # 物件ごとの処理\n",
        "        for child in mother:\n",
        "\n",
        "            # 建物情報\n",
        "            # カテゴリ\n",
        "            cats.append(child.find(class_='ui-pct ui-pct--util1 cassettebox-hpct cassettebox-hpctcat').text)\n",
        "            # 建物名\n",
        "            names.append(child.find(class_='js-cassetLinkHref').text)\n",
        "            # 住所\n",
        "            address.append(child.find(class_='infodatabox-box-txt').text.strip())\n",
        "            # 家賃\n",
        "            prices.append(np.float64(child.find(class_='infodatabox-details-txt').text.replace('万円', '')))\n",
        "\n",
        "\n",
        "    df = pl.DataFrame({\n",
        "        'name':names,\n",
        "        'cat':cats,\n",
        "        'address':address,\n",
        "        'price':prices,\n",
        "    })\n",
        "\n",
        "\n",
        "    return df\n"
      ]
    },
    {
      "cell_type": "code",
      "execution_count": 17,
      "metadata": {},
      "outputs": [
        {
          "name": "stdout",
          "output_type": "stream",
          "text": [
            "データ読み込み完了\n"
          ]
        }
      ],
      "source": [
        "df:pl.DataFrame\n",
        "if make_df:\n",
        "    df = make_suumo_df()\n",
        "    df.write_parquet('data/suumo.parquet')\n",
        "    print('データ作成完了')\n",
        "else:\n",
        "    df = pl.read_parquet('data/suumo.parquet')\n",
        "    print('データ読み込み完了')"
      ]
    },
    {
      "cell_type": "code",
      "execution_count": 18,
      "metadata": {},
      "outputs": [],
      "source": [
        "# 前処理\n",
        "import jageocoder\n",
        "jageocoder.init()\n",
        "df=df.group_by([\"address\",'name']).median()#アパートの部屋の家賃の中央値\n",
        "df=df.group_by([\"address\"]).mean()#町ごとの平均\n",
        "df=df.drop(['name','cat'])\n",
        "\n",
        "price=df['price']\n",
        "price_min = price.mean() - 2*np.sqrt(price.var())\n",
        "price_max = price.mean() + 2*np.sqrt(price.var())\n",
        "df=df.with_columns(\n",
        "    cutted_price=price.clip(price_min,price_max),\n",
        "    exped_price=np.exp(df['price']),\n",
        "    x=df['address'].map_elements(lambda x:jageocoder.search(x)['candidates'][0]['x']),\n",
        "    y=df['address'].map_elements(lambda x:jageocoder.search(x)['candidates'][0]['y']),\n",
        ")\n"
      ]
    },
    {
      "cell_type": "code",
      "execution_count": 19,
      "metadata": {
        "id": "FcIoZwAuxxt-"
      },
      "outputs": [
        {
          "data": {
            "text/html": [
              "<div><style>\n",
              ".dataframe > thead > tr,\n",
              ".dataframe > tbody > tr {\n",
              "  text-align: right;\n",
              "  white-space: pre-wrap;\n",
              "}\n",
              "</style>\n",
              "<small>shape: (5, 6)</small><table border=\"1\" class=\"dataframe\"><thead><tr><th>address</th><th>price</th><th>cutted_price</th><th>exped_price</th><th>x</th><th>y</th></tr><tr><td>str</td><td>f64</td><td>f64</td><td>f64</td><td>f64</td><td>f64</td></tr></thead><tbody><tr><td>&quot;北海道函館市杉並町&quot;</td><td>5.85</td><td>5.85</td><td>347.23438</td><td>140.757187</td><td>41.788494</td></tr><tr><td>&quot;北海道函館市宝来町&quot;</td><td>4.58</td><td>4.58</td><td>97.514394</td><td>140.721191</td><td>41.760105</td></tr><tr><td>&quot;北海道函館市日吉町４&quot;</td><td>3.780952</td><td>3.780952</td><td>43.857791</td><td>140.793091</td><td>41.803566</td></tr><tr><td>&quot;北海道函館市湯浜町&quot;</td><td>4.613158</td><td>4.613158</td><td>100.80197</td><td>140.775543</td><td>41.777218</td></tr><tr><td>&quot;北海道函館市湯川町２&quot;</td><td>4.467442</td><td>4.467442</td><td>87.133538</td><td>140.788818</td><td>41.780521</td></tr></tbody></table></div>"
            ],
            "text/plain": [
              "shape: (5, 6)\n",
              "┌──────────────────────┬──────────┬──────────────┬─────────────┬────────────┬───────────┐\n",
              "│ address              ┆ price    ┆ cutted_price ┆ exped_price ┆ x          ┆ y         │\n",
              "│ ---                  ┆ ---      ┆ ---          ┆ ---         ┆ ---        ┆ ---       │\n",
              "│ str                  ┆ f64      ┆ f64          ┆ f64         ┆ f64        ┆ f64       │\n",
              "╞══════════════════════╪══════════╪══════════════╪═════════════╪════════════╪═══════════╡\n",
              "│ 北海道函館市杉並町   ┆ 5.85     ┆ 5.85         ┆ 347.23438   ┆ 140.757187 ┆ 41.788494 │\n",
              "│ 北海道函館市宝来町   ┆ 4.58     ┆ 4.58         ┆ 97.514394   ┆ 140.721191 ┆ 41.760105 │\n",
              "│ 北海道函館市日吉町４ ┆ 3.780952 ┆ 3.780952     ┆ 43.857791   ┆ 140.793091 ┆ 41.803566 │\n",
              "│ 北海道函館市湯浜町   ┆ 4.613158 ┆ 4.613158     ┆ 100.80197   ┆ 140.775543 ┆ 41.777218 │\n",
              "│ 北海道函館市湯川町２ ┆ 4.467442 ┆ 4.467442     ┆ 87.133538   ┆ 140.788818 ┆ 41.780521 │\n",
              "└──────────────────────┴──────────┴──────────────┴─────────────┴────────────┴───────────┘"
            ]
          },
          "execution_count": 19,
          "metadata": {},
          "output_type": "execute_result"
        }
      ],
      "source": [
        "df.head()"
      ]
    },
    {
      "cell_type": "code",
      "execution_count": 40,
      "metadata": {},
      "outputs": [
        {
          "name": "stdout",
          "output_type": "stream",
          "text": [
            "エリアの最安値:1.55万円\n",
            "エリアの最安値の住所:北海道函館市西旭岡町３\n",
            "エリアの最高値:7.9万円\n",
            "エリアの最高値の住所:北海道函館市女那川町\n"
          ]
        }
      ],
      "source": [
        "# polarsのdfでpriceが最小な行を取得\n",
        "min_price_row = df.filter(df['price']==df['price'].min())\n",
        "min_price= min_price_row['price'][0]\n",
        "min_price_address= min_price_row['address'][0]\n",
        "print(f'エリアの最安値:{min_price}万円')\n",
        "print(f'エリアの最安値の住所:{min_price_address}')\n",
        "max_price_row = df.filter(df['price']==df['price'].max())\n",
        "max_price= max_price_row['price'][0]\n",
        "max_price_address= max_price_row['address'][0]\n",
        "print(f'エリアの最高値:{max_price}万円')\n",
        "print(f'エリアの最高値の住所:{max_price_address}')\n"
      ]
    },
    {
      "cell_type": "code",
      "execution_count": 21,
      "metadata": {
        "colab": {
          "base_uri": "https://localhost:8080/",
          "height": 430
        },
        "id": "xHhD3rw9vsE6",
        "outputId": "86d77067-ff1f-413f-e0c4-585d299db111"
      },
      "outputs": [
        {
          "data": {
            "image/png": "[encoded data removed]",
            "text/plain": [
              "<Figure size 640x480 with 1 Axes>"
            ]
          },
          "metadata": {},
          "output_type": "display_data"
        }
      ],
      "source": [
        "import seaborn as sns\n",
        "import matplotlib.pyplot as plt\n",
        "\n",
        "#外れ値込みの家賃のヒストグラム\n",
        "sns.histplot(data=df['price'])\n",
        "mean_value=df['price'].to_numpy().mean()\n",
        "variance=df['price'].to_numpy().var()\n",
        "# 平均を表す縦棒を描画\n",
        "plt.axvline(mean_value, color='red', linestyle='dashed', linewidth=2, label='Mean')\n",
        "\n",
        "# 標準偏差+平均を表す縦棒を描画\n",
        "plt.axvline(mean_value + np.sqrt(variance), color='green', linestyle='dashed', linewidth=2, label='Mean + Std Dev')\n",
        "plt.axvline(mean_value - np.sqrt(variance), color='green', linestyle='dashed', linewidth=2, label='Mean - Std Dev')\n",
        "plt.axvline(mean_value + 2*np.sqrt(variance), color='green', linestyle='dashed', linewidth=2, label='Mean + 2*Std Dev')\n",
        "plt.axvline(mean_value - 2*np.sqrt(variance), color='green', linestyle='dashed', linewidth=2, label='Mean - 2*Std Dev')\n",
        "plt.legend()\n",
        "plt.show()"
      ]
    },
    {
      "cell_type": "code",
      "execution_count": 22,
      "metadata": {},
      "outputs": [
        {
          "data": {
            "image/png": "[encoded data removed]",
            "text/plain": [
              "<Figure size 640x480 with 1 Axes>"
            ]
          },
          "metadata": {},
          "output_type": "display_data"
        }
      ],
      "source": [
        "#外れ値を丸め込んだ可視化\n",
        "sns.histplot(data=df['cutted_price'])\n",
        "mean_value=df['cutted_price'].to_numpy().mean()\n",
        "variance=df['cutted_price'].to_numpy().var()\n",
        "# 平均を表す縦棒を描画\n",
        "plt.axvline(mean_value, color='red', linestyle='dashed', linewidth=2, label='Mean')\n",
        "\n",
        "# 標準偏差+平均を表す縦棒を描画\n",
        "plt.axvline(mean_value + np.sqrt(variance), color='green', linestyle='dashed', linewidth=2, label='Mean + Std Dev')\n",
        "plt.axvline(mean_value - np.sqrt(variance), color='green', linestyle='dashed', linewidth=2, label='Mean - Std Dev')\n",
        "plt.axvline(mean_value + 2*np.sqrt(variance), color='green', linestyle='dashed', linewidth=2, label='Mean + 2*Std Dev')\n",
        "plt.axvline(mean_value - 2*np.sqrt(variance), color='green', linestyle='dashed', linewidth=2, label='Mean - 2*Std Dev')\n",
        "plt.legend()\n",
        "plt.show()"
      ]
    },
    {
      "cell_type": "code",
      "execution_count": 23,
      "metadata": {},
      "outputs": [
        {
          "data": {
            "image/png": "[encoded data removed]",
            "text/plain": [
              "<Figure size 640x480 with 1 Axes>"
            ]
          },
          "metadata": {},
          "output_type": "display_data"
        }
      ],
      "source": [
        "#expを利用して家賃の差を強調する\n",
        "sns.histplot(data=np.exp(df['price']))\n",
        "plt.show()"
      ]
    },
    {
      "cell_type": "code",
      "execution_count": 24,
      "metadata": {
        "id": "njZzhunZrFRL"
      },
      "outputs": [
        {
          "data": {
            "application/vnd.plotly.v1+json": {
              "config": {
                "plotlyServerURL": "https://plot.ly"
              },
              "data": [
                {
                  "customdata": [
                    [
                      5.850000000000001,
                      "北海道函館市杉並町"
                    ],
                    [
                      4.58,
                      "北海道函館市宝来町"
                    ],
                    [
                      3.7809523809523813,
                      "北海道函館市日吉町４"
                    ],
                    [
                      4.613157894736842,
                      "北海道函館市湯浜町"
                    ],
                    [
                      4.467441860465116,
                      "北海道函館市湯川町２"
                    ],
                    [
                      4.871052631578946,
                      "北海道函館市中道２"
                    ],
                    [
                      4.582558139534885,
                      "北海道函館市川原町"
                    ],
                    [
                      3.963461538461538,
                      "北海道函館市山の手３"
                    ],
                    [
                      4.570967741935485,
                      "北海道函館市人見町"
                    ],
                    [
                      3.5,
                      "北海道函館市陣川１"
                    ],
                    [
                      6.75,
                      "北海道函館市北美原３"
                    ],
                    [
                      5.000833333333333,
                      "北海道函館市桔梗町"
                    ],
                    [
                      3.034883720930233,
                      "北海道函館市高丘町"
                    ],
                    [
                      4.546052631578948,
                      "北海道函館市亀田町"
                    ],
                    [
                      4.36,
                      "北海道函館市大町"
                    ],
                    [
                      4.771910112359549,
                      "北海道函館市富岡町２"
                    ],
                    [
                      4.549367088607594,
                      "北海道函館市花園町"
                    ],
                    [
                      4.209722222222222,
                      "北海道函館市港町３"
                    ],
                    [
                      1.55,
                      "北海道函館市西旭岡町３"
                    ],
                    [
                      5.1,
                      "北海道函館市山の手２"
                    ],
                    [
                      5.654000000000001,
                      "北海道函館市本町"
                    ],
                    [
                      4.783333333333334,
                      "北海道函館市昭和町"
                    ],
                    [
                      5,
                      "北海道函館市吉川町"
                    ],
                    [
                      6.457692307692308,
                      "北海道函館市神山町"
                    ],
                    [
                      3.7333333333333325,
                      "北海道函館市高松町"
                    ],
                    [
                      4.429999999999999,
                      "北海道函館市美原５"
                    ],
                    [
                      4.9172413793103456,
                      "北海道函館市青柳町"
                    ],
                    [
                      4.925757575757574,
                      "北海道函館市西桔梗町"
                    ],
                    [
                      6.266666666666667,
                      "北海道函館市弁天町"
                    ],
                    [
                      4.395614035087719,
                      "北海道函館市白鳥町"
                    ],
                    [
                      4.3999999999999995,
                      "北海道函館市銭亀町"
                    ],
                    [
                      4.2749999999999995,
                      "北海道函館市堀川町"
                    ],
                    [
                      5.718181818181818,
                      "北海道函館市大川町"
                    ],
                    [
                      4.01,
                      "北海道函館市末広町"
                    ],
                    [
                      5.600000000000001,
                      "北海道函館市梁川町"
                    ],
                    [
                      4.804444444444444,
                      "北海道函館市高盛町"
                    ],
                    [
                      4.265447154471546,
                      "北海道函館市富岡町３"
                    ],
                    [
                      5.360869565217392,
                      "北海道函館市柳町"
                    ],
                    [
                      5.104545454545454,
                      "北海道函館市旭町"
                    ],
                    [
                      5.031999999999999,
                      "北海道函館市日吉町１"
                    ],
                    [
                      5.1605263157894745,
                      "北海道函館市湯川町３"
                    ],
                    [
                      3.3200000000000003,
                      "北海道函館市東雲町"
                    ],
                    [
                      3.721739130434783,
                      "北海道函館市赤川１"
                    ],
                    [
                      5.670909090909092,
                      "北海道函館市神山１"
                    ],
                    [
                      4.7785714285714285,
                      "北海道函館市深堀町"
                    ],
                    [
                      4,
                      "北海道函館市住吉町"
                    ],
                    [
                      4.216666666666668,
                      "北海道函館市大森町"
                    ],
                    [
                      4.379032258064516,
                      "北海道函館市海岸町"
                    ],
                    [
                      4.65,
                      "北海道函館市弥生町"
                    ],
                    [
                      4.905263157894735,
                      "北海道函館市的場町"
                    ],
                    [
                      5.099999999999999,
                      "北海道函館市桔梗３"
                    ],
                    [
                      5.922727272727272,
                      "北海道函館市駒場町"
                    ],
                    [
                      4,
                      "北海道函館市汐首町"
                    ],
                    [
                      5.632608695652172,
                      "北海道函館市中島町"
                    ],
                    [
                      4.8873417721519,
                      "北海道函館市本通２"
                    ],
                    [
                      5.217499999999999,
                      "北海道函館市上湯川町"
                    ],
                    [
                      4.741666666666668,
                      "北海道函館市栄町"
                    ],
                    [
                      4.9607142857142845,
                      "北海道函館市本通３"
                    ],
                    [
                      4.8578947368421055,
                      "北海道函館市桔梗４"
                    ],
                    [
                      4.451612903225807,
                      "北海道函館市亀田本町"
                    ],
                    [
                      5.164285714285714,
                      "北海道函館市追分町"
                    ],
                    [
                      5.076363636363637,
                      "北海道函館市昭和１"
                    ],
                    [
                      4.811979166666669,
                      "北海道函館市昭和４"
                    ],
                    [
                      4.414285714285714,
                      "北海道函館市北美原２"
                    ],
                    [
                      5.528571428571428,
                      "北海道函館市東山３"
                    ],
                    [
                      4.341666666666667,
                      "北海道函館市松川町"
                    ],
                    [
                      4.142881355932205,
                      "北海道函館市宮前町"
                    ],
                    [
                      4.92,
                      "北海道函館市桔梗１"
                    ],
                    [
                      4.552,
                      "北海道函館市大手町"
                    ],
                    [
                      4.835714285714286,
                      "北海道函館市湯川町１"
                    ],
                    [
                      4.5,
                      "北海道函館市小安町"
                    ],
                    [
                      4.182352941176471,
                      "北海道函館市大縄町"
                    ],
                    [
                      4.615,
                      "北海道函館市新川町"
                    ],
                    [
                      5,
                      "北海道函館市滝沢町"
                    ],
                    [
                      4.8,
                      "北海道函館市神山２"
                    ],
                    [
                      5.904999999999999,
                      "北海道函館市戸倉町"
                    ],
                    [
                      6.266666666666667,
                      "北海道函館市東山町"
                    ],
                    [
                      3.6454545454545455,
                      "北海道函館市見晴町"
                    ],
                    [
                      6.940816326530614,
                      "北海道函館市松陰町"
                    ],
                    [
                      3.9000000000000004,
                      "北海道函館市東川町"
                    ],
                    [
                      4.570312499999999,
                      "北海道函館市日吉町２"
                    ],
                    [
                      4.939024390243903,
                      "北海道函館市東山２"
                    ],
                    [
                      4.90327868852459,
                      "北海道函館市鍛治２"
                    ],
                    [
                      4.4043478260869575,
                      "北海道函館市榎本町"
                    ],
                    [
                      6.176923076923078,
                      "北海道函館市田家町"
                    ],
                    [
                      4.172,
                      "北海道函館市港町２"
                    ],
                    [
                      4.288235294117647,
                      "北海道函館市時任町"
                    ],
                    [
                      5.386666666666668,
                      "北海道函館市谷地頭町"
                    ],
                    [
                      5.528947368421054,
                      "北海道函館市北美原１"
                    ],
                    [
                      4.9,
                      "北海道函館市松風町"
                    ],
                    [
                      4.171428571428571,
                      "北海道函館市上新川町"
                    ],
                    [
                      4.766197183098591,
                      "北海道函館市港町１"
                    ],
                    [
                      4.572727272727272,
                      "北海道函館市宇賀浦町"
                    ],
                    [
                      4.4013888888888895,
                      "北海道函館市金堀町"
                    ],
                    [
                      4.705263157894737,
                      "北海道函館市本通４"
                    ],
                    [
                      5.691666666666666,
                      "北海道函館市陣川町"
                    ],
                    [
                      4.008108108108108,
                      "北海道函館市八幡町"
                    ],
                    [
                      4.943859649122807,
                      "北海道函館市昭和２"
                    ],
                    [
                      4.798028169014083,
                      "北海道函館市柏木町"
                    ],
                    [
                      4.848484848484848,
                      "北海道函館市千歳町"
                    ],
                    [
                      3.3949152542372873,
                      "北海道函館市上野町"
                    ],
                    [
                      4.321212121212121,
                      "北海道函館市万代町"
                    ],
                    [
                      4.770967741935484,
                      "北海道函館市千代台町"
                    ],
                    [
                      4.127777777777778,
                      "北海道函館市乃木町"
                    ],
                    [
                      4.639772727272726,
                      "北海道函館市美原１"
                    ],
                    [
                      6.5200000000000005,
                      "北海道函館市西旭岡町２"
                    ],
                    [
                      5.538888888888888,
                      "北海道函館市桔梗５"
                    ],
                    [
                      5.325,
                      "北海道函館市元町"
                    ],
                    [
                      4.197368421052631,
                      "北海道函館市日吉町３"
                    ],
                    [
                      6.2875,
                      "北海道函館市船見町"
                    ],
                    [
                      4.601538461538463,
                      "北海道函館市美原３"
                    ],
                    [
                      5.7555555555555555,
                      "北海道函館市若松町"
                    ],
                    [
                      2.3,
                      "北海道函館市釜谷町"
                    ],
                    [
                      3.5,
                      "北海道函館市広野町"
                    ],
                    [
                      4,
                      "北海道函館市古川町"
                    ],
                    [
                      4.69927536231884,
                      "北海道函館市美原２"
                    ],
                    [
                      4.05,
                      "北海道函館市入舟町"
                    ],
                    [
                      5.029999999999999,
                      "北海道函館市東山１"
                    ],
                    [
                      4.6000000000000005,
                      "北海道函館市昭和３"
                    ],
                    [
                      5.107843137254902,
                      "北海道函館市五稜郭町"
                    ],
                    [
                      4.65108695652174,
                      "北海道函館市鍛治１"
                    ],
                    [
                      4.652173913043479,
                      "北海道函館市中道１"
                    ],
                    [
                      4.666666666666666,
                      "北海道函館市富岡町１"
                    ],
                    [
                      5.014705882352942,
                      "北海道函館市神山３"
                    ],
                    [
                      5.617021276595745,
                      "北海道函館市日乃出町"
                    ],
                    [
                      7.9,
                      "北海道函館市女那川町"
                    ],
                    [
                      4.033333333333333,
                      "北海道函館市山の手１"
                    ],
                    [
                      5.017894736842107,
                      "北海道函館市本通１"
                    ],
                    [
                      5.923076923076923,
                      "北海道函館市豊川町"
                    ],
                    [
                      5.0571428571428605,
                      "北海道函館市美原４"
                    ],
                    [
                      4.438709677419355,
                      "北海道函館市北浜町"
                    ],
                    [
                      3.35531914893617,
                      "北海道函館市赤川町"
                    ],
                    [
                      5.446268656716417,
                      "北海道函館市石川町"
                    ],
                    [
                      4.75,
                      "北海道函館市桔梗２"
                    ],
                    [
                      4.349047619047621,
                      "北海道函館市亀田港町"
                    ],
                    [
                      5.5,
                      "北海道函館市西旭岡町１"
                    ]
                  ],
                  "hovertemplate": "強調された高級度=%{marker.size}<br>経度=%{lat}<br>緯度=%{lon}<br>エリアの家賃(万円)=%{customdata[0]}<br>住所=%{customdata[1]}<br>エリアの家賃（外れ値除外）=%{marker.color}<extra></extra>",
                  "lat": [
                    41.78849411010742,
                    41.76010513305664,
                    41.803565979003906,
                    41.777217864990234,
                    41.780521392822266,
                    41.8090705871582,
                    41.791412353515625,
                    41.80592727661133,
                    41.781761169433594,
                    41.81808853149414,
                    41.830509185791016,
                    41.850868225097656,
                    41.78932189941406,
                    41.79547882080078,
                    41.76948547363281,
                    41.80597686767578,
                    41.79195022583008,
                    41.81064987182617,
                    41.80576705932617,
                    41.801025390625,
                    41.78875732421875,
                    41.81602096557617,
                    41.7938117980957,
                    41.82604217529297,
                    41.775203704833984,
                    41.82396697998047,
                    41.75708770751953,
                    41.83232116699219,
                    41.777076721191406,
                    41.793392181396484,
                    41.762367248535156,
                    41.7781867980957,
                    41.797916412353516,
                    41.76481628417969,
                    41.7906494140625,
                    41.77407455444336,
                    41.81002426147461,
                    41.793724060058594,
                    41.76683044433594,
                    41.788490295410156,
                    41.77901077270508,
                    41.76911926269531,
                    41.825775146484375,
                    41.816009521484375,
                    41.786556243896484,
                    41.75062942504883,
                    41.76784896850586,
                    41.78133010864258,
                    41.76870346069336,
                    41.778621673583984,
                    41.84513473510742,
                    41.78232955932617,
                    41.7223014831543,
                    41.78411865234375,
                    41.79951477050781,
                    41.786338806152344,
                    41.76457214355469,
                    41.7939453125,
                    41.84956359863281,
                    41.80528259277344,
                    41.79868698120117,
                    41.81631851196289,
                    41.8167724609375,
                    41.82876968383789,
                    41.81113815307617,
                    41.785404205322266,
                    41.7896728515625,
                    41.82976531982422,
                    41.7692756652832,
                    41.778533935546875,
                    41.74778747558594,
                    41.78113555908203,
                    41.776065826416016,
                    41.80073547363281,
                    41.812339782714844,
                    41.78266906738281,
                    41.82913589477539,
                    41.79925537109375,
                    41.78823471069336,
                    41.76218795776367,
                    41.795570373535156,
                    41.8077507019043,
                    41.80747604370117,
                    41.78670883178711,
                    41.797828674316406,
                    41.80467224121094,
                    41.783077239990234,
                    41.75154495239258,
                    41.82755661010742,
                    41.771976470947266,
                    41.78044509887695,
                    41.80216598510742,
                    41.771121978759766,
                    41.77616500854492,
                    41.7991943359375,
                    41.83845901489258,
                    41.793277740478516,
                    41.8135871887207,
                    41.78739547729492,
                    41.77358627319336,
                    41.78592300415039,
                    41.78786849975586,
                    41.78437042236328,
                    41.78091049194336,
                    41.81536102294922,
                    41.798797607421875,
                    41.8494758605957,
                    41.76314926147461,
                    41.796180725097656,
                    41.76573944091797,
                    41.82044219970703,
                    41.774662017822266,
                    41.74131774902344,
                    41.778263092041016,
                    41.76158905029297,
                    41.818302154541016,
                    41.76737976074219,
                    41.8122673034668,
                    41.82050704956055,
                    41.796043395996094,
                    41.804168701171875,
                    41.802547454833984,
                    41.80644226074219,
                    41.81622314453125,
                    41.774330139160156,
                    41.76923751831055,
                    41.806766510009766,
                    41.79852294921875,
                    41.76705551147461,
                    41.82215118408203,
                    41.798095703125,
                    41.841915130615234,
                    41.83534240722656,
                    41.838077545166016,
                    41.80897903442383,
                    41.79453659057617
                  ],
                  "legendgroup": "",
                  "lon": [
                    140.75718688964844,
                    140.72119140625,
                    140.7930908203125,
                    140.77554321289062,
                    140.788818359375,
                    140.75994873046875,
                    140.77349853515625,
                    140.78439331054688,
                    140.7595977783203,
                    140.77528381347656,
                    140.7526397705078,
                    140.74961853027344,
                    140.8033447265625,
                    140.73377990722656,
                    140.7096710205078,
                    140.7515106201172,
                    140.78150939941406,
                    140.71563720703125,
                    140.83424377441406,
                    140.78140258789062,
                    140.75225830078125,
                    140.72604370117188,
                    140.7294921875,
                    140.7664794921875,
                    140.806884765625,
                    140.75100708007812,
                    140.71656799316406,
                    140.71502685546875,
                    140.70428466796875,
                    140.74554443359375,
                    140.83311462402344,
                    140.74386596679688,
                    140.7389373779297,
                    140.7161102294922,
                    140.74716186523438,
                    140.74444580078125,
                    140.7537384033203,
                    140.76194763183594,
                    140.72801208496094,
                    140.7901611328125,
                    140.79510498046875,
                    140.72996520996094,
                    140.75991821289062,
                    140.76275634765625,
                    140.77711486816406,
                    140.71730041503906,
                    140.7340545654297,
                    140.7294921875,
                    140.7061309814453,
                    140.75184631347656,
                    140.7270050048828,
                    140.7738800048828,
                    140.9571990966797,
                    140.74183654785156,
                    140.76995849609375,
                    140.81890869140625,
                    140.7264404296875,
                    140.7742919921875,
                    140.72560119628906,
                    140.73721313476562,
                    140.7314910888672,
                    140.7434844970703,
                    140.7318878173828,
                    140.75,
                    140.77920532226562,
                    140.7362060546875,
                    140.7383270263672,
                    140.72947692871094,
                    140.72369384765625,
                    140.7830047607422,
                    140.90928649902344,
                    140.7346649169922,
                    140.73568725585938,
                    140.80233764648438,
                    140.767333984375,
                    140.80186462402344,
                    140.81668090820312,
                    140.81280517578125,
                    140.76138305664062,
                    140.7249755859375,
                    140.7919158935547,
                    140.7751922607422,
                    140.76710510253906,
                    140.7938232421875,
                    140.74606323242188,
                    140.71676635742188,
                    140.75384521484375,
                    140.7122039794922,
                    140.74655151367188,
                    140.73265075683594,
                    140.7382354736328,
                    140.7252655029297,
                    140.74423217773438,
                    140.7604522705078,
                    140.77574157714844,
                    140.79632568359375,
                    140.7392120361328,
                    140.73870849609375,
                    140.7672576904297,
                    140.73789978027344,
                    140.7994842529297,
                    140.72854614257812,
                    140.74716186523438,
                    140.76351928710938,
                    140.74969482421875,
                    140.82745361328125,
                    140.7325439453125,
                    140.712158203125,
                    140.78387451171875,
                    140.7044677734375,
                    140.74656677246094,
                    140.72804260253906,
                    140.94137573242188,
                    140.7681427001953,
                    140.86570739746094,
                    140.75872802734375,
                    140.6953125,
                    140.77139282226562,
                    140.73643493652344,
                    140.75437927246094,
                    140.76382446289062,
                    140.75552368164062,
                    140.7440643310547,
                    140.76771545410156,
                    140.7525177001953,
                    141.08645629882812,
                    140.77984619140625,
                    140.76307678222656,
                    140.7200164794922,
                    140.75595092773438,
                    140.72747802734375,
                    140.77194213867188,
                    140.74363708496094,
                    140.7283477783203,
                    140.7267608642578,
                    140.82252502441406
                  ],
                  "marker": {
                    "color": [
                      5.850000000000001,
                      4.58,
                      3.7809523809523813,
                      4.613157894736842,
                      4.467441860465116,
                      4.871052631578946,
                      4.582558139534885,
                      3.963461538461538,
                      4.570967741935485,
                      3.5,
                      6.450496717040388,
                      5.000833333333333,
                      3.096874644982008,
                      4.546052631578948,
                      4.36,
                      4.771910112359549,
                      4.549367088607594,
                      4.209722222222222,
                      3.096874644982008,
                      5.1,
                      5.654000000000001,
                      4.783333333333334,
                      5,
                      6.450496717040388,
                      3.7333333333333325,
                      4.429999999999999,
                      4.9172413793103456,
                      4.925757575757574,
                      6.266666666666667,
                      4.395614035087719,
                      4.3999999999999995,
                      4.2749999999999995,
                      5.718181818181818,
                      4.01,
                      5.600000000000001,
                      4.804444444444444,
                      4.265447154471546,
                      5.360869565217392,
                      5.104545454545454,
                      5.031999999999999,
                      5.1605263157894745,
                      3.3200000000000003,
                      3.721739130434783,
                      5.670909090909092,
                      4.7785714285714285,
                      4,
                      4.216666666666668,
                      4.379032258064516,
                      4.65,
                      4.905263157894735,
                      5.099999999999999,
                      5.922727272727272,
                      4,
                      5.632608695652172,
                      4.8873417721519,
                      5.217499999999999,
                      4.741666666666668,
                      4.9607142857142845,
                      4.8578947368421055,
                      4.451612903225807,
                      5.164285714285714,
                      5.076363636363637,
                      4.811979166666669,
                      4.414285714285714,
                      5.528571428571428,
                      4.341666666666667,
                      4.142881355932205,
                      4.92,
                      4.552,
                      4.835714285714286,
                      4.5,
                      4.182352941176471,
                      4.615,
                      5,
                      4.8,
                      5.904999999999999,
                      6.266666666666667,
                      3.6454545454545455,
                      6.450496717040388,
                      3.9000000000000004,
                      4.570312499999999,
                      4.939024390243903,
                      4.90327868852459,
                      4.4043478260869575,
                      6.176923076923078,
                      4.172,
                      4.288235294117647,
                      5.386666666666668,
                      5.528947368421054,
                      4.9,
                      4.171428571428571,
                      4.766197183098591,
                      4.572727272727272,
                      4.4013888888888895,
                      4.705263157894737,
                      5.691666666666666,
                      4.008108108108108,
                      4.943859649122807,
                      4.798028169014083,
                      4.848484848484848,
                      3.3949152542372873,
                      4.321212121212121,
                      4.770967741935484,
                      4.127777777777778,
                      4.639772727272726,
                      6.450496717040388,
                      5.538888888888888,
                      5.325,
                      4.197368421052631,
                      6.2875,
                      4.601538461538463,
                      5.7555555555555555,
                      3.096874644982008,
                      3.5,
                      4,
                      4.69927536231884,
                      4.05,
                      5.029999999999999,
                      4.6000000000000005,
                      5.107843137254902,
                      4.65108695652174,
                      4.652173913043479,
                      4.666666666666666,
                      5.014705882352942,
                      5.617021276595745,
                      6.450496717040388,
                      4.033333333333333,
                      5.017894736842107,
                      5.923076923076923,
                      5.0571428571428605,
                      4.438709677419355,
                      3.35531914893617,
                      5.446268656716417,
                      4.75,
                      4.349047619047621,
                      5.5
                    ],
                    "coloraxis": "coloraxis",
                    "opacity": 0.7,
                    "size": [
                      347.2343804787351,
                      97.51439420705401,
                      43.85779117666224,
                      100.80196956047871,
                      87.13353791768265,
                      130.45816903427522,
                      97.7641689772405,
                      52.639223641762335,
                      96.63758477904248,
                      33.11545195869231,
                      854.0587625261516,
                      148.5368882818264,
                      20.79855932173301,
                      94.25959563332515,
                      78.25713442308428,
                      118.14469621509934,
                      94.57253333538782,
                      67.33783225856067,
                      4.711470182590742,
                      164.0219072999017,
                      285.4309090544205,
                      119.50202697162203,
                      148.4131591025766,
                      637.5880006188278,
                      41.81827033266992,
                      83.93141691026874,
                      136.62519575830422,
                      137.79369127154737,
                      526.7187193440384,
                      81.09441029131153,
                      81.45086866496807,
                      71.880139309659,
                      304.3510540394927,
                      55.1468705634638,
                      270.426407426153,
                      122.05166570161461,
                      71.19674880124929,
                      212.9100051124782,
                      164.76915843543838,
                      153.2391847910439,
                      174.25614523479433,
                      27.660350558516758,
                      41.33622071209028,
                      290.29832203558016,
                      118.93432245051913,
                      54.598150033144236,
                      67.80708355264657,
                      79.76080816519035,
                      104.58498557711422,
                      134.99843123571625,
                      164.02190729990153,
                      373.4287684489469,
                      54.598150033144236,
                      279.3900113014642,
                      132.60062247891935,
                      184.47242604853324,
                      114.62508437435179,
                      142.69568499297475,
                      128.75285793387005,
                      85.76516341370073,
                      174.9124764574581,
                      160.19048467964598,
                      122.97476437831374,
                      82.62280353560337,
                      251.783962603566,
                      76.83549183465443,
                      62.98403968308413,
                      137.00261318646898,
                      94.82186252261018,
                      125.92850001848757,
                      90.01713130052181,
                      65.51983630711064,
                      100.98782853248096,
                      148.4131591025766,
                      121.51041751873485,
                      366.86722578746645,
                      526.7187193440384,
                      38.300178067376244,
                      1033.6136368939121,
                      49.40244910553019,
                      96.57428452170753,
                      139.63395483696144,
                      134.73079662808328,
                      81.8057738504853,
                      481.508111265598,
                      64.84501252885248,
                      72.83781769226212,
                      218.47392404671416,
                      251.87863602324612,
                      134.28977968493552,
                      64.80796882090337,
                      117.47166823418623,
                      96.8077712653793,
                      81.56407346769583,
                      110.52736726996429,
                      296.3871878666548,
                      55.042637276326786,
                      140.31075609290573,
                      121.27105558055862,
                      127.54699035257396,
                      29.8121269164484,
                      75.27982128059872,
                      118.03341259105964,
                      62.03990318475961,
                      103.52081745099197,
                      678.578385339443,
                      254.39518105403283,
                      205.40836046478316,
                      66.51107140201104,
                      537.8071292129165,
                      99.63748622854625,
                      315.9410215666617,
                      9.974182454814718,
                      33.11545195869231,
                      54.598150033144236,
                      109.86752944767376,
                      57.39745704544619,
                      152.93301269561462,
                      99.48431564193386,
                      165.31341173439162,
                      104.69872671390004,
                      104.81259154957166,
                      106.34267539816545,
                      150.61183265308648,
                      275.0688078122962,
                      2697.28232826851,
                      56.44876052614881,
                      151.09287845666094,
                      373.55936077790125,
                      157.1409003197385,
                      84.66562519424143,
                      28.654747863829183,
                      231.89128361211337,
                      115.58428452718766,
                      77.40470903942399,
                      244.69193226422038
                    ],
                    "sizemode": "area",
                    "sizeref": 1.078912931307404
                  },
                  "mode": "markers",
                  "name": "",
                  "showlegend": false,
                  "subplot": "mapbox",
                  "type": "scattermapbox"
                }
              ],
              "layout": {
                "coloraxis": {
                  "colorbar": {
                    "title": {
                      "text": "エリアの家賃（外れ値除外）"
                    }
                  },
                  "colorscale": [
                    [
                      0,
                      "#0d0887"
                    ],
                    [
                      0.1111111111111111,
                      "#46039f"
                    ],
                    [
                      0.2222222222222222,
                      "#7201a8"
                    ],
                    [
                      0.3333333333333333,
                      "#9c179e"
                    ],
                    [
                      0.4444444444444444,
                      "#bd3786"
                    ],
                    [
                      0.5555555555555556,
                      "#d8576b"
                    ],
                    [
                      0.6666666666666666,
                      "#ed7953"
                    ],
                    [
                      0.7777777777777778,
                      "#fb9f3a"
                    ],
                    [
                      0.8888888888888888,
                      "#fdca26"
                    ],
                    [
                      1,
                      "#f0f921"
                    ]
                  ]
                },
                "legend": {
                  "itemsizing": "constant",
                  "tracegroupgap": 0
                },
                "mapbox": {
                  "center": {
                    "lat": 41.79419890572043,
                    "lon": 140.76166859795066
                  },
                  "domain": {
                    "x": [
                      0,
                      1
                    ],
                    "y": [
                      0,
                      1
                    ]
                  },
                  "style": "open-street-map",
                  "zoom": 11
                },
                "margin": {
                  "b": 0,
                  "l": 0,
                  "r": 0,
                  "t": 0
                },
                "template": {
                  "data": {
                    "bar": [
                      {
                        "error_x": {
                          "color": "#2a3f5f"
                        },
                        "error_y": {
                          "color": "#2a3f5f"
                        },
                        "marker": {
                          "line": {
                            "color": "#E5ECF6",
                            "width": 0.5
                          },
                          "pattern": {
                            "fillmode": "overlay",
                            "size": 10,
                            "solidity": 0.2
                          }
                        },
                        "type": "bar"
                      }
                    ],
                    "barpolar": [
                      {
                        "marker": {
                          "line": {
                            "color": "#E5ECF6",
                            "width": 0.5
                          },
                          "pattern": {
                            "fillmode": "overlay",
                            "size": 10,
                            "solidity": 0.2
                          }
                        },
                        "type": "barpolar"
                      }
                    ],
                    "carpet": [
                      {
                        "aaxis": {
                          "endlinecolor": "#2a3f5f",
                          "gridcolor": "white",
                          "linecolor": "white",
                          "minorgridcolor": "white",
                          "startlinecolor": "#2a3f5f"
                        },
                        "baxis": {
                          "endlinecolor": "#2a3f5f",
                          "gridcolor": "white",
                          "linecolor": "white",
                          "minorgridcolor": "white",
                          "startlinecolor": "#2a3f5f"
                        },
                        "type": "carpet"
                      }
                    ],
                    "choropleth": [
                      {
                        "colorbar": {
                          "outlinewidth": 0,
                          "ticks": ""
                        },
                        "type": "choropleth"
                      }
                    ],
                    "contour": [
                      {
                        "colorbar": {
                          "outlinewidth": 0,
                          "ticks": ""
                        },
                        "colorscale": [
                          [
                            0,
                            "#0d0887"
                          ],
                          [
                            0.1111111111111111,
                            "#46039f"
                          ],
                          [
                            0.2222222222222222,
                            "#7201a8"
                          ],
                          [
                            0.3333333333333333,
                            "#9c179e"
                          ],
                          [
                            0.4444444444444444,
                            "#bd3786"
                          ],
                          [
                            0.5555555555555556,
                            "#d8576b"
                          ],
                          [
                            0.6666666666666666,
                            "#ed7953"
                          ],
                          [
                            0.7777777777777778,
                            "#fb9f3a"
                          ],
                          [
                            0.8888888888888888,
                            "#fdca26"
                          ],
                          [
                            1,
                            "#f0f921"
                          ]
                        ],
                        "type": "contour"
                      }
                    ],
                    "contourcarpet": [
                      {
                        "colorbar": {
                          "outlinewidth": 0,
                          "ticks": ""
                        },
                        "type": "contourcarpet"
                      }
                    ],
                    "heatmap": [
                      {
                        "colorbar": {
                          "outlinewidth": 0,
                          "ticks": ""
                        },
                        "colorscale": [
                          [
                            0,
                            "#0d0887"
                          ],
                          [
                            0.1111111111111111,
                            "#46039f"
                          ],
                          [
                            0.2222222222222222,
                            "#7201a8"
                          ],
                          [
                            0.3333333333333333,
                            "#9c179e"
                          ],
                          [
                            0.4444444444444444,
                            "#bd3786"
                          ],
                          [
                            0.5555555555555556,
                            "#d8576b"
                          ],
                          [
                            0.6666666666666666,
                            "#ed7953"
                          ],
                          [
                            0.7777777777777778,
                            "#fb9f3a"
                          ],
                          [
                            0.8888888888888888,
                            "#fdca26"
                          ],
                          [
                            1,
                            "#f0f921"
                          ]
                        ],
                        "type": "heatmap"
                      }
                    ],
                    "heatmapgl": [
                      {
                        "colorbar": {
                          "outlinewidth": 0,
                          "ticks": ""
                        },
                        "colorscale": [
                          [
                            0,
                            "#0d0887"
                          ],
                          [
                            0.1111111111111111,
                            "#46039f"
                          ],
                          [
                            0.2222222222222222,
                            "#7201a8"
                          ],
                          [
                            0.3333333333333333,
                            "#9c179e"
                          ],
                          [
                            0.4444444444444444,
                            "#bd3786"
                          ],
                          [
                            0.5555555555555556,
                            "#d8576b"
                          ],
                          [
                            0.6666666666666666,
                            "#ed7953"
                          ],
                          [
                            0.7777777777777778,
                            "#fb9f3a"
                          ],
                          [
                            0.8888888888888888,
                            "#fdca26"
                          ],
                          [
                            1,
                            "#f0f921"
                          ]
                        ],
                        "type": "heatmapgl"
                      }
                    ],
                    "histogram": [
                      {
                        "marker": {
                          "pattern": {
                            "fillmode": "overlay",
                            "size": 10,
                            "solidity": 0.2
                          }
                        },
                        "type": "histogram"
                      }
                    ],
                    "histogram2d": [
                      {
                        "colorbar": {
                          "outlinewidth": 0,
                          "ticks": ""
                        },
                        "colorscale": [
                          [
                            0,
                            "#0d0887"
                          ],
                          [
                            0.1111111111111111,
                            "#46039f"
                          ],
                          [
                            0.2222222222222222,
                            "#7201a8"
                          ],
                          [
                            0.3333333333333333,
                            "#9c179e"
                          ],
                          [
                            0.4444444444444444,
                            "#bd3786"
                          ],
                          [
                            0.5555555555555556,
                            "#d8576b"
                          ],
                          [
                            0.6666666666666666,
                            "#ed7953"
                          ],
                          [
                            0.7777777777777778,
                            "#fb9f3a"
                          ],
                          [
                            0.8888888888888888,
                            "#fdca26"
                          ],
                          [
                            1,
                            "#f0f921"
                          ]
                        ],
                        "type": "histogram2d"
                      }
                    ],
                    "histogram2dcontour": [
                      {
                        "colorbar": {
                          "outlinewidth": 0,
                          "ticks": ""
                        },
                        "colorscale": [
                          [
                            0,
                            "#0d0887"
                          ],
                          [
                            0.1111111111111111,
                            "#46039f"
                          ],
                          [
                            0.2222222222222222,
                            "#7201a8"
                          ],
                          [
                            0.3333333333333333,
                            "#9c179e"
                          ],
                          [
                            0.4444444444444444,
                            "#bd3786"
                          ],
                          [
                            0.5555555555555556,
                            "#d8576b"
                          ],
                          [
                            0.6666666666666666,
                            "#ed7953"
                          ],
                          [
                            0.7777777777777778,
                            "#fb9f3a"
                          ],
                          [
                            0.8888888888888888,
                            "#fdca26"
                          ],
                          [
                            1,
                            "#f0f921"
                          ]
                        ],
                        "type": "histogram2dcontour"
                      }
                    ],
                    "mesh3d": [
                      {
                        "colorbar": {
                          "outlinewidth": 0,
                          "ticks": ""
                        },
                        "type": "mesh3d"
                      }
                    ],
                    "parcoords": [
                      {
                        "line": {
                          "colorbar": {
                            "outlinewidth": 0,
                            "ticks": ""
                          }
                        },
                        "type": "parcoords"
                      }
                    ],
                    "pie": [
                      {
                        "automargin": true,
                        "type": "pie"
                      }
                    ],
                    "scatter": [
                      {
                        "fillpattern": {
                          "fillmode": "overlay",
                          "size": 10,
                          "solidity": 0.2
                        },
                        "type": "scatter"
                      }
                    ],
                    "scatter3d": [
                      {
                        "line": {
                          "colorbar": {
                            "outlinewidth": 0,
                            "ticks": ""
                          }
                        },
                        "marker": {
                          "colorbar": {
                            "outlinewidth": 0,
                            "ticks": ""
                          }
                        },
                        "type": "scatter3d"
                      }
                    ],
                    "scattercarpet": [
                      {
                        "marker": {
                          "colorbar": {
                            "outlinewidth": 0,
                            "ticks": ""
                          }
                        },
                        "type": "scattercarpet"
                      }
                    ],
                    "scattergeo": [
                      {
                        "marker": {
                          "colorbar": {
                            "outlinewidth": 0,
                            "ticks": ""
                          }
                        },
                        "type": "scattergeo"
                      }
                    ],
                    "scattergl": [
                      {
                        "marker": {
                          "colorbar": {
                            "outlinewidth": 0,
                            "ticks": ""
                          }
                        },
                        "type": "scattergl"
                      }
                    ],
                    "scattermapbox": [
                      {
                        "marker": {
                          "colorbar": {
                            "outlinewidth": 0,
                            "ticks": ""
                          }
                        },
                        "type": "scattermapbox"
                      }
                    ],
                    "scatterpolar": [
                      {
                        "marker": {
                          "colorbar": {
                            "outlinewidth": 0,
                            "ticks": ""
                          }
                        },
                        "type": "scatterpolar"
                      }
                    ],
                    "scatterpolargl": [
                      {
                        "marker": {
                          "colorbar": {
                            "outlinewidth": 0,
                            "ticks": ""
                          }
                        },
                        "type": "scatterpolargl"
                      }
                    ],
                    "scatterternary": [
                      {
                        "marker": {
                          "colorbar": {
                            "outlinewidth": 0,
                            "ticks": ""
                          }
                        },
                        "type": "scatterternary"
                      }
                    ],
                    "surface": [
                      {
                        "colorbar": {
                          "outlinewidth": 0,
                          "ticks": ""
                        },
                        "colorscale": [
                          [
                            0,
                            "#0d0887"
                          ],
                          [
                            0.1111111111111111,
                            "#46039f"
                          ],
                          [
                            0.2222222222222222,
                            "#7201a8"
                          ],
                          [
                            0.3333333333333333,
                            "#9c179e"
                          ],
                          [
                            0.4444444444444444,
                            "#bd3786"
                          ],
                          [
                            0.5555555555555556,
                            "#d8576b"
                          ],
                          [
                            0.6666666666666666,
                            "#ed7953"
                          ],
                          [
                            0.7777777777777778,
                            "#fb9f3a"
                          ],
                          [
                            0.8888888888888888,
                            "#fdca26"
                          ],
                          [
                            1,
                            "#f0f921"
                          ]
                        ],
                        "type": "surface"
                      }
                    ],
                    "table": [
                      {
                        "cells": {
                          "fill": {
                            "color": "#EBF0F8"
                          },
                          "line": {
                            "color": "white"
                          }
                        },
                        "header": {
                          "fill": {
                            "color": "#C8D4E3"
                          },
                          "line": {
                            "color": "white"
                          }
                        },
                        "type": "table"
                      }
                    ]
                  },
                  "layout": {
                    "annotationdefaults": {
                      "arrowcolor": "#2a3f5f",
                      "arrowhead": 0,
                      "arrowwidth": 1
                    },
                    "autotypenumbers": "strict",
                    "coloraxis": {
                      "colorbar": {
                        "outlinewidth": 0,
                        "ticks": ""
                      }
                    },
                    "colorscale": {
                      "diverging": [
                        [
                          0,
                          "#8e0152"
                        ],
                        [
                          0.1,
                          "#c51b7d"
                        ],
                        [
                          0.2,
                          "#de77ae"
                        ],
                        [
                          0.3,
                          "#f1b6da"
                        ],
                        [
                          0.4,
                          "#fde0ef"
                        ],
                        [
                          0.5,
                          "#f7f7f7"
                        ],
                        [
                          0.6,
                          "#e6f5d0"
                        ],
                        [
                          0.7,
                          "#b8e186"
                        ],
                        [
                          0.8,
                          "#7fbc41"
                        ],
                        [
                          0.9,
                          "#4d9221"
                        ],
                        [
                          1,
                          "#276419"
                        ]
                      ],
                      "sequential": [
                        [
                          0,
                          "#0d0887"
                        ],
                        [
                          0.1111111111111111,
                          "#46039f"
                        ],
                        [
                          0.2222222222222222,
                          "#7201a8"
                        ],
                        [
                          0.3333333333333333,
                          "#9c179e"
                        ],
                        [
                          0.4444444444444444,
                          "#bd3786"
                        ],
                        [
                          0.5555555555555556,
                          "#d8576b"
                        ],
                        [
                          0.6666666666666666,
                          "#ed7953"
                        ],
                        [
                          0.7777777777777778,
                          "#fb9f3a"
                        ],
                        [
                          0.8888888888888888,
                          "#fdca26"
                        ],
                        [
                          1,
                          "#f0f921"
                        ]
                      ],
                      "sequentialminus": [
                        [
                          0,
                          "#0d0887"
                        ],
                        [
                          0.1111111111111111,
                          "#46039f"
                        ],
                        [
                          0.2222222222222222,
                          "#7201a8"
                        ],
                        [
                          0.3333333333333333,
                          "#9c179e"
                        ],
                        [
                          0.4444444444444444,
                          "#bd3786"
                        ],
                        [
                          0.5555555555555556,
                          "#d8576b"
                        ],
                        [
                          0.6666666666666666,
                          "#ed7953"
                        ],
                        [
                          0.7777777777777778,
                          "#fb9f3a"
                        ],
                        [
                          0.8888888888888888,
                          "#fdca26"
                        ],
                        [
                          1,
                          "#f0f921"
                        ]
                      ]
                    },
                    "colorway": [
                      "#636efa",
                      "#EF553B",
                      "#00cc96",
                      "#ab63fa",
                      "#FFA15A",
                      "#19d3f3",
                      "#FF6692",
                      "#B6E880",
                      "#FF97FF",
                      "#FECB52"
                    ],
                    "font": {
                      "color": "#2a3f5f"
                    },
                    "geo": {
                      "bgcolor": "white",
                      "lakecolor": "white",
                      "landcolor": "#E5ECF6",
                      "showlakes": true,
                      "showland": true,
                      "subunitcolor": "white"
                    },
                    "hoverlabel": {
                      "align": "left"
                    },
                    "hovermode": "closest",
                    "mapbox": {
                      "style": "light"
                    },
                    "paper_bgcolor": "white",
                    "plot_bgcolor": "#E5ECF6",
                    "polar": {
                      "angularaxis": {
                        "gridcolor": "white",
                        "linecolor": "white",
                        "ticks": ""
                      },
                      "bgcolor": "#E5ECF6",
                      "radialaxis": {
                        "gridcolor": "white",
                        "linecolor": "white",
                        "ticks": ""
                      }
                    },
                    "scene": {
                      "xaxis": {
                        "backgroundcolor": "#E5ECF6",
                        "gridcolor": "white",
                        "gridwidth": 2,
                        "linecolor": "white",
                        "showbackground": true,
                        "ticks": "",
                        "zerolinecolor": "white"
                      },
                      "yaxis": {
                        "backgroundcolor": "#E5ECF6",
                        "gridcolor": "white",
                        "gridwidth": 2,
                        "linecolor": "white",
                        "showbackground": true,
                        "ticks": "",
                        "zerolinecolor": "white"
                      },
                      "zaxis": {
                        "backgroundcolor": "#E5ECF6",
                        "gridcolor": "white",
                        "gridwidth": 2,
                        "linecolor": "white",
                        "showbackground": true,
                        "ticks": "",
                        "zerolinecolor": "white"
                      }
                    },
                    "shapedefaults": {
                      "line": {
                        "color": "#2a3f5f"
                      }
                    },
                    "ternary": {
                      "aaxis": {
                        "gridcolor": "white",
                        "linecolor": "white",
                        "ticks": ""
                      },
                      "baxis": {
                        "gridcolor": "white",
                        "linecolor": "white",
                        "ticks": ""
                      },
                      "bgcolor": "#E5ECF6",
                      "caxis": {
                        "gridcolor": "white",
                        "linecolor": "white",
                        "ticks": ""
                      }
                    },
                    "title": {
                      "x": 0.05
                    },
                    "xaxis": {
                      "automargin": true,
                      "gridcolor": "white",
                      "linecolor": "white",
                      "ticks": "",
                      "title": {
                        "standoff": 15
                      },
                      "zerolinecolor": "white",
                      "zerolinewidth": 2
                    },
                    "yaxis": {
                      "automargin": true,
                      "gridcolor": "white",
                      "linecolor": "white",
                      "ticks": "",
                      "title": {
                        "standoff": 15
                      },
                      "zerolinecolor": "white",
                      "zerolinewidth": 2
                    }
                  }
                }
              }
            }
          },
          "metadata": {},
          "output_type": "display_data"
        }
      ],
      "source": [
        "import plotly.express as px\n",
        "fig = px.scatter_mapbox(\n",
        "    # データフレームおよび緯度・経度の設定\n",
        "    data_frame=df,\n",
        "    lat=\"y\",\n",
        "    lon=\"x\",\n",
        "    # ホバー時の表示設定\n",
        "    hover_data=[\"price\",\"address\"],\n",
        "    # 散布図のマーカーの設定\n",
        "    color=\"cutted_price\",\n",
        "    size=\"exped_price\",\n",
        "    opacity=0.7,\n",
        "    # 作図の設定\n",
        "    zoom=11,\n",
        "    size_max=50,\n",
        "    labels={'cutted_price':'エリアの家賃（外れ値除外）','exped_price':'強調された高級度','price':'エリアの家賃(万円)','x':'緯度','y':'経度','address':'住所'},\n",
        "    )\n",
        "fig.update_layout(mapbox_style='open-street-map')\n",
        "fig.update_layout(margin={\"r\": 0, \"t\": 0, \"l\": 0, \"b\": 0})\n",
        "fig.show()"
      ]
    }
  ],
  "metadata": {
    "colab": {
      "provenance": []
    },
    "kernelspec": {
      "display_name": "Python 3",
      "name": "python3"
    },
    "language_info": {
      "codemirror_mode": {
        "name": "ipython",
        "version": 3
      },
      "file_extension": ".py",
      "mimetype": "text/x-python",
      "name": "python",
      "nbconvert_exporter": "python",
      "pygments_lexer": "ipython3",
      "version": "3.11.5"
    }
  },
  "nbformat": 4,
  "nbformat_minor": 0
}
